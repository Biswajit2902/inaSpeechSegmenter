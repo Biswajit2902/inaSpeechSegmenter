{
 "cells": [
  {
   "cell_type": "code",
   "execution_count": 1,
   "metadata": {},
   "outputs": [
    {
     "name": "stderr",
     "output_type": "stream",
     "text": [
      "Using TensorFlow backend.\n"
     ]
    }
   ],
   "source": [
    "# Load the API (Current warning is related to h5py and has no consequences)\n",
    "from inaSpeechSegmenter import Segmenter, seg2csv"
   ]
  },
  {
   "cell_type": "code",
   "execution_count": 2,
   "metadata": {},
   "outputs": [],
   "source": [
    "# select a media to analyse\n",
    "# any media supported by ffmpeg may be used (video, audio, urls)\n",
    "media = '/pcie/MyRepere/wav/BFMTV_CultureEtVous_2012-10-16_064700.wav'"
   ]
  },
  {
   "cell_type": "code",
   "execution_count": 3,
   "metadata": {},
   "outputs": [
    {
     "name": "stderr",
     "output_type": "stream",
     "text": [
      "/home/elechapt/Documents/inaSpeechSegEnv/lib/python3.5/site-packages/Keras-2.1.5-py3.5.egg/keras/models.py:291: UserWarning: Error in loading the saved optimizer state. As a result, your model is starting with a freshly initialized optimizer.\n",
      "  warnings.warn('Error in loading the saved optimizer '\n"
     ]
    }
   ],
   "source": [
    "# create an instance of speech segmenter\n",
    "# this loads neural networks and may last few seconds\n",
    "# Warnings have no incidence on the results\n",
    "seg = Segmenter()"
   ]
  },
  {
   "cell_type": "code",
   "execution_count": 4,
   "metadata": {},
   "outputs": [
    {
     "name": "stderr",
     "output_type": "stream",
     "text": [
      "/home/elechapt/Documents/inaSpeechSegEnv/lib/python3.5/site-packages/SIDEKIT-1.2.3-py3.5.egg/sidekit/frontend/features.py:394: RuntimeWarning: divide by zero encountered in log\n",
      "  log_energy = numpy.log((framed**2).sum(axis=1))\n",
      "/home/elechapt/Documents/inaSpeechSegEnv/lib/python3.5/site-packages/SIDEKIT-1.2.3-py3.5.egg/sidekit/frontend/features.py:465: RuntimeWarning: divide by zero encountered in log\n",
      "  mspec = numpy.log(numpy.dot(spec, fbank.T))   # A tester avec log10 et log\n",
      "/home/elechapt/Documents/inaSpeechSegEnv/lib/python3.5/site-packages/scikit_image-0.13.1-py3.5-linux-x86_64.egg/skimage/util/shape.py:247: RuntimeWarning: Cannot provide views on a non-contiguous input array without copying.\n",
      "  warn(RuntimeWarning(\"Cannot provide views on a non-contiguous input \"\n",
      "/home/elechapt/Documents/inaSpeechSegmenter/inaSpeechSegmenter/segmenter.py:75: RuntimeWarning: invalid value encountered in subtract\n",
      "  data = (data - np.mean(data, axis=1).reshape((len(data), 1))) / np.std(data, axis=1).reshape((len(data), 1))\n",
      "/home/elechapt/Documents/inaSpeechSegEnv/lib/python3.5/site-packages/numpy/core/_methods.py:112: RuntimeWarning: invalid value encountered in subtract\n",
      "  x = asanyarray(arr - arrmean)\n"
     ]
    },
    {
     "name": "stdout",
     "output_type": "stream",
     "text": [
      "Segmentation done. 1 files treated.\n"
     ]
    }
   ],
   "source": [
    "# segmentation is performed using the __call__ method of the segmenter instance\n",
    "segmentation = seg(media)"
   ]
  },
  {
   "cell_type": "code",
   "execution_count": 5,
   "metadata": {},
   "outputs": [
    {
     "name": "stdout",
     "output_type": "stream",
     "text": [
      "[[('NOACTIVITY', 0.0, 2.22), ('Female', 2.22, 4.5600000000000005), ('Male', 4.5600000000000005, 10.200000000000001), ('Female', 10.200000000000001, 18.16), ('NOACTIVITY', 18.2, 18.900000000000002), ('Female', 18.900000000000002, 24.5), ('Music', 24.52, 28.22), ('Male', 28.22, 42.44), ('Female', 42.44, 44.76), ('Male', 44.76, 47.52), ('Female', 47.52, 68.92), ('Male', 68.92, 72.78), ('Music', 72.8, 77.68), ('Male', 77.68, 83.8), ('Female', 83.8, 85.58), ('Male', 85.58, 93.74), ('Female', 93.74, 97.64), ('Male', 97.64, 100.10000000000001), ('NOACTIVITY', 100.14, 103.66)]]\n"
     ]
    }
   ],
   "source": [
    "# the result is a list of tuples\n",
    "# each tuple contains:\n",
    "# * label in 'Male', 'Female', 'Music', 'NOACTIVITY'\n",
    "# * start time of the segment\n",
    "# * end time of the segment\n",
    "print(segmentation)"
   ]
  },
  {
   "cell_type": "code",
   "execution_count": 6,
   "metadata": {},
   "outputs": [],
   "source": [
    "# this writes the resulting segmentation into a csvfile\n",
    "# the csv file may be used to import segmentation into visualization softwares,\n",
    "# such as sonic-visualiser: https://www.sonicvisualiser.org\n",
    "seg2csv(segmentation, 'myseg.csv')"
   ]
  },
  {
   "cell_type": "code",
   "execution_count": 7,
   "metadata": {},
   "outputs": [
    {
     "name": "stdout",
     "output_type": "stream",
     "text": [
      "NOACTIVITY\t0.000000\t2.220000\r\n",
      "Female\t2.220000\t4.560000\r\n",
      "Male\t4.560000\t10.200000\r\n",
      "Female\t10.200000\t18.160000\r\n",
      "NOACTIVITY\t18.200000\t18.900000\r\n",
      "Female\t18.900000\t24.500000\r\n",
      "Music\t24.520000\t28.220000\r\n",
      "Male\t28.220000\t42.440000\r\n",
      "Female\t42.440000\t44.760000\r\n",
      "Male\t44.760000\t47.520000\r\n",
      "Female\t47.520000\t68.920000\r\n",
      "Male\t68.920000\t72.780000\r\n",
      "Music\t72.800000\t77.680000\r\n",
      "Male\t77.680000\t83.800000\r\n",
      "Female\t83.800000\t85.580000\r\n",
      "Male\t85.580000\t93.740000\r\n",
      "Female\t93.740000\t97.640000\r\n",
      "Male\t97.640000\t100.100000\r\n",
      "NOACTIVITY\t100.140000\t103.660000\r\n"
     ]
    }
   ],
   "source": [
    "# Here is the resulting CSV\n",
    "!cat myseg.csv"
   ]
  },
  {
   "cell_type": "code",
   "execution_count": null,
   "metadata": {},
   "outputs": [],
   "source": []
  }
 ],
 "metadata": {
  "kernelspec": {
   "display_name": "Python 3",
   "language": "python",
   "name": "python3"
  },
  "language_info": {
   "codemirror_mode": {
    "name": "ipython",
    "version": 3
   },
   "file_extension": ".py",
   "mimetype": "text/x-python",
   "name": "python",
   "nbconvert_exporter": "python",
   "pygments_lexer": "ipython3",
   "version": "3.5.2"
  }
 },
 "nbformat": 4,
 "nbformat_minor": 2
}
